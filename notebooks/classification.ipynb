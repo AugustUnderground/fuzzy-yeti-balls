{
 "cells": [
  {
   "cell_type": "code",
   "execution_count": 1,
   "id": "4fc793d4-a790-4cbd-8000-f7690b1ee987",
   "metadata": {},
   "outputs": [],
   "source": [
    "import time\n",
    "import numpy as np\n",
    "import pandas as pd\n",
    "import joblib as jl\n",
    "\n",
    "from matplotlib import pyplot as plt\n",
    "from matplotlib.colors import ListedColormap\n",
    "\n",
    "from sklearn.model_selection import train_test_split\n",
    "from sklearn.preprocessing import StandardScaler\n",
    "from sklearn.datasets import make_moons, make_circles, make_classification\n",
    "from sklearn.neural_network import MLPClassifier\n",
    "from sklearn.neighbors import KNeighborsClassifier\n",
    "from sklearn.svm import SVC\n",
    "from sklearn.gaussian_process import GaussianProcessClassifier\n",
    "from sklearn.gaussian_process.kernels import RBF\n",
    "from sklearn.tree import DecisionTreeClassifier\n",
    "from sklearn.ensemble import RandomForestClassifier, AdaBoostClassifier\n",
    "from sklearn.naive_bayes import GaussianNB\n",
    "from sklearn.discriminant_analysis import QuadraticDiscriminantAnalysis\n",
    "# from sklearn.inspection import DecisionBoundaryDisplay"
   ]
  },
  {
   "cell_type": "code",
   "execution_count": 2,
   "id": "0d3668ec-7996-441b-bc95-1f1c7f8b9f00",
   "metadata": {},
   "outputs": [],
   "source": [
    "names = [ 'Nearest Neighbors'\n",
    "        , 'Linear SVM'\n",
    "        , 'RBF SVM'\n",
    "        , 'Gaussian Process'\n",
    "        , 'Decision Tree'\n",
    "        , 'Random Forest'\n",
    "        , 'Neural Net'\n",
    "        , 'AdaBoost'\n",
    "        , 'Naive Bayes'\n",
    "        , 'QDA' ]"
   ]
  },
  {
   "cell_type": "code",
   "execution_count": 3,
   "id": "71b12347-72e3-4900-98cc-76e22860b342",
   "metadata": {},
   "outputs": [],
   "source": [
    "classifiers = [ KNeighborsClassifier(3)\n",
    "              , SVC(kernel='linear', C=0.025)\n",
    "              , SVC(gamma=2, C=1)\n",
    "              , GaussianProcessClassifier(1.0 * RBF(1.0))\n",
    "              , DecisionTreeClassifier(max_depth=5)\n",
    "              , RandomForestClassifier(max_depth=5, n_estimators=10, max_features=1)\n",
    "              , MLPClassifier(alpha=1, max_iter=1000)\n",
    "              , AdaBoostClassifier()\n",
    "              , GaussianNB()\n",
    "              , QuadraticDiscriminantAnalysis() ]"
   ]
  },
  {
   "cell_type": "code",
   "execution_count": 4,
   "id": "b7c74e2a-1cf2-415e-8523-05c755b88963",
   "metadata": {},
   "outputs": [],
   "source": [
    "data = pd.read_csv('../data/classData.csv')"
   ]
  },
  {
   "cell_type": "code",
   "execution_count": 5,
   "id": "eab0092b-ce47-480f-888f-112834e5cc73",
   "metadata": {},
   "outputs": [],
   "source": [
    "data['FM'] = np.sum(data[['G','C','B','A']].values * np.array([[2 ** e for e in range(4)]]), axis = 1)\n",
    "data['FB'] = (np.sum(data[['G','C','B','A']].values, axis = 1) >= 1).astype(float)"
   ]
  },
  {
   "cell_type": "code",
   "execution_count": 6,
   "id": "748a1e98-9f2d-4d89-8908-775383ed315e",
   "metadata": {},
   "outputs": [],
   "source": [
    "x_keys = ['Ia', 'Ib', 'Ic', 'Va', 'Vb', 'Vc']\n",
    "y_keys = ['G','C','B','A']\n",
    "\n",
    "X = data[x_keys].values\n",
    "y = np.squeeze(data['FB'].values)"
   ]
  },
  {
   "cell_type": "code",
   "execution_count": 11,
   "id": "2f95e439-58c8-477a-af01-be8782fcb62c",
   "metadata": {},
   "outputs": [],
   "source": [
    "X_scale = StandardScaler().fit_transform(X)\n",
    "X_train, X_test, y_train, y_test = train_test_split( X_scale, y\n",
    "                                                   , test_size    = 0.3\n",
    "                                                   , random_state = 666\n",
    "                                                   , )"
   ]
  },
  {
   "cell_type": "code",
   "execution_count": 108,
   "id": "a53ce163-bdda-4a80-913b-47c3a16c6c9d",
   "metadata": {},
   "outputs": [],
   "source": [
    "h = .1\n",
    "\n",
    "xx, yy = np.meshgrid( np.arange(x_min, x_max, h)\n",
    "                    , np.arange(y_min, y_max, h)\n",
    "                    , )\n",
    "\n",
    "\n",
    "x__ = np.c_[xx.ravel(), yy.ravel()]\n",
    "x_  = np.concatenate((x__,np.repeat(X_scale[666,2:6][None], x__.shape[0], axis = 0)), axis = 1)"
   ]
  },
  {
   "cell_type": "code",
   "execution_count": 109,
   "id": "37ce7caf-f54e-4941-8563-d11c9ce2f934",
   "metadata": {},
   "outputs": [],
   "source": [
    "def fit_clf(name, clf, train_x, train_y, test_x, test_y):\n",
    "    print(f'Fitting {name} ...')\n",
    "    tic = time.time()\n",
    "    clf.fit(train_x, train_y)\n",
    "    toc = time.time()\n",
    "    print(f'\\tTook: {(toc - tic):.3}s')\n",
    "    score = clf.score(test_x, test_y)\n",
    "    print(f'\\tScore: {score:.3}')\n",
    "    return clf"
   ]
  },
  {
   "cell_type": "code",
   "execution_count": 51,
   "id": "3c4f40f3-2ff1-46ab-813b-1dbe02d51203",
   "metadata": {},
   "outputs": [
    {
     "name": "stdout",
     "output_type": "stream",
     "text": [
      "Fitting Nearest Neighbors ...\n",
      "\tTook: 0.00706s\n",
      "\tScore: 1.0\n",
      "Fitting Linear SVM ...\n",
      "\tTook: 0.502s\n",
      "\tScore: 0.697\n",
      "Fitting RBF SVM ...\n",
      "\tTook: 0.153s\n",
      "\tScore: 0.998\n",
      "Fitting Gaussian Process ...\n"
     ]
    },
    {
     "name": "stderr",
     "output_type": "stream",
     "text": [
      "/home/uhlmanny/miniconda3/envs/torch/lib/python3.9/site-packages/sklearn/gaussian_process/kernels.py:411: ConvergenceWarning: The optimal value found for dimension 0 of parameter k1__constant_value is close to the specified upper bound 100000.0. Increasing the bound and calling fit again may find a better value.\n",
      "  warnings.warn(\"The optimal value found for \"\n"
     ]
    },
    {
     "name": "stdout",
     "output_type": "stream",
     "text": [
      "\tTook: 3.4e+02s\n",
      "\tScore: 1.0\n",
      "Fitting Decision Tree ...\n",
      "\tTook: 0.00839s\n",
      "\tScore: 0.989\n",
      "Fitting Random Forest ...\n",
      "\tTook: 0.0222s\n",
      "\tScore: 0.997\n",
      "Fitting Neural Net ...\n",
      "\tTook: 1.14s\n",
      "\tScore: 0.974\n",
      "Fitting AdaBoost ...\n",
      "\tTook: 0.214s\n",
      "\tScore: 1.0\n",
      "Fitting Naive Bayes ...\n",
      "\tTook: 0.00119s\n",
      "\tScore: 0.972\n",
      "Fitting QDA ...\n",
      "\tTook: 0.00155s\n",
      "\tScore: 0.993\n"
     ]
    },
    {
     "name": "stderr",
     "output_type": "stream",
     "text": [
      "/home/uhlmanny/miniconda3/envs/torch/lib/python3.9/site-packages/sklearn/discriminant_analysis.py:808: UserWarning: Variables are collinear\n",
      "  warnings.warn(\"Variables are collinear\")\n"
     ]
    }
   ],
   "source": [
    "clf_fit = { name: fit_clf(name, clf, X_train, y_train, X_test, y_test)\n",
    "            for name, clf in zip(names, classifiers) }"
   ]
  },
  {
   "cell_type": "code",
   "execution_count": 52,
   "id": "315a0527-8b83-45c6-ab08-6cb438cdc143",
   "metadata": {},
   "outputs": [],
   "source": [
    "for name, clf in clf_fit.items():\n",
    "    jl.dump(clf, f'../models/{name.replace(\" \", \"_\")}.clf')"
   ]
  },
  {
   "cell_type": "code",
   "execution_count": 110,
   "id": "45eb03c2-ce3e-45e5-a51e-565ddf92c805",
   "metadata": {},
   "outputs": [],
   "source": [
    "def decision_boundary(clf):\n",
    "    if hasattr(clf, \"decision_function\"):\n",
    "        z = clf.decision_function(x_)\n",
    "    else:\n",
    "        z = clf.predict_proba(x_)[:, 1]\n",
    "    \n",
    "    return np.reshape(z, xx.shape)"
   ]
  },
  {
   "cell_type": "code",
   "execution_count": 113,
   "id": "1c4717a5-342f-4514-b518-d925eeada5e3",
   "metadata": {},
   "outputs": [
    {
     "data": {
      "text/plain": [
       "<Figure size 432x288 with 0 Axes>"
      ]
     },
     "metadata": {},
     "output_type": "display_data"
    },
    {
     "data": {
      "image/png": "[encoded data removed]",
      "text/plain": [
       "<Figure size 1944x648 with 11 Axes>"
      ]
     },
     "metadata": {
      "needs_background": "light"
     },
     "output_type": "display_data"
    }
   ],
   "source": [
    "plt.tight_layout()\n",
    "figure = plt.figure(figsize=(27, 9))\n",
    "cm = plt.cm.RdBu\n",
    "cm_bright = ListedColormap([\"#FF0000\", \"#0000FF\"])\n",
    "ax = plt.subplot(6, len(classifiers) + 1, 1)\n",
    "ax.set_title(\"Input data\")\n",
    "ax.scatter( X_scale[:, 0], X_scale[:, 1]\n",
    "          , c=y, cmap=cm_bright\n",
    "          , edgecolors=None )\n",
    "\n",
    "ax.set_xlim(xx.min(), xx.max())\n",
    "ax.set_ylim(yy.min(), yy.max())\n",
    "\n",
    "for i,(n,c) in list(enumerate(clf_fit.items())):\n",
    "    ax = plt.subplot(6, len(classifiers) + 1, i + 2)\n",
    "    zz = decision_boundary(c)\n",
    "    \n",
    "    ax.scatter( X_scale[:, 0], X_scale[:, 1]\n",
    "              , c=y, cmap=cm_bright\n",
    "              , edgecolors=None )\n",
    "    \n",
    "    ax.contourf( np.resize(xx, zz.shape), np.resize(yy, zz.shape), zz, cmap=cm, alpha=.8 )\n",
    "    \n",
    "    ax.set_title(f'{n}')\n",
    "\n",
    "plt.savefig('../plots/comparison.png')"
   ]
  },
  {
   "cell_type": "code",
   "execution_count": null,
   "id": "76741a44-e7ef-4171-aaa6-d70612eeae8d",
   "metadata": {},
   "outputs": [],
   "source": [
    "def predict_m(clf, X):\n",
    "    return np.unpackbits(clf.predict(X.reshape(1,-1)).astype(np.uint8))[-4:].reshape(1,-1)\n",
    "\n",
    "def predict_b(clf, X):\n",
    "    return clf.predict(X.reshape(1,-1)).reshape(1,-1)"
   ]
  },
  {
   "cell_type": "code",
   "execution_count": null,
   "id": "7b181f04-adc4-4d18-9e02-643f41459db5",
   "metadata": {},
   "outputs": [],
   "source": [
    "#clf_fit['QDA'].predict(x)\n",
    "y_p = predict_b(clf_fit['QDA'],  d[x_keys].values)"
   ]
  }
 ],
 "metadata": {
  "kernelspec": {
   "display_name": "Python 3 (ipykernel)",
   "language": "python",
   "name": "python3"
  },
  "language_info": {
   "codemirror_mode": {
    "name": "ipython",
    "version": 3
   },
   "file_extension": ".py",
   "mimetype": "text/x-python",
   "name": "python",
   "nbconvert_exporter": "python",
   "pygments_lexer": "ipython3",
   "version": "3.9.12"
  }
 },
 "nbformat": 4,
 "nbformat_minor": 5
}
